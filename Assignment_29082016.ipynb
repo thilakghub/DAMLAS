{
 "cells": [
  {
   "cell_type": "markdown",
   "metadata": {},
   "source": [
    "# Assignment - 29 Aug\n",
    "\n",
    "### Name: Thilak.G\n",
    "### email: thilak.g@target.com\n",
    "### week: 01\n",
    "references:\n",
    "http://stackoverflow.com/questions/3969726/attributeerror-module-object-has-no-attribute-urlopen\n",
    "http://stackoverflow.com/questions/1393324/in-python-given-a-url-to-a-text-file-what-is-the-simplest-way-to-read-the-cont\n",
    "http://stackoverflow.com/questions/15138614/how-can-i-read-the-contents-of-an-url-with-python\n",
    "http://stackoverflow.com/questions/10894228/counting-words-from-tokenized-url\n",
    "http://stackoverflow.com/questions/13259288/returning-a-list-of-words-after-reading-a-file-in-python\n",
    "http://stackoverflow.com/questions/16025368/download-file-as-string-in-python"
   ]
  },
  {
   "cell_type": "code",
   "execution_count": 3,
   "metadata": {
    "collapsed": false
   },
   "outputs": [
    {
     "name": "stdout",
     "output_type": "stream",
     "text": [
      "a   5\n",
      "e   3\n",
      "f   2\n",
      "g   1\n",
      "h   4\n",
      "i   4\n",
      "j   1\n",
      "m   3\n",
      "n   4\n",
      "o   1\n",
      "r   2\n",
      "s   7\n",
      "t   4\n"
     ]
    }
   ],
   "source": [
    "enter_text = \"This is the first assignment from James Shanahan\"\n",
    "\n",
    "letter_cnt = {}\n",
    "for letter in enter_text.lower().replace(\" \",\"\"):\n",
    "    letter_cnt[letter] = letter_cnt.get(letter, 0) + 1    \n",
    "letter_list = list(letter_cnt.items())\n",
    "\n",
    "letter_cnt_list = list(letter_cnt.items())\n",
    "letter_cnt_list.sort()\n",
    "\n",
    "for (letter, cnt) in letter_cnt_list:\n",
    "    print (letter,\" \",cnt)"
   ]
  },
  {
   "cell_type": "code",
   "execution_count": 4,
   "metadata": {
    "collapsed": true
   },
   "outputs": [],
   "source": [
    "def add_fruit(inventory, fruit, quantity=0):\n",
    "    inventory[fruit] = quantity\n",
    "    return(inventory)"
   ]
  },
  {
   "cell_type": "code",
   "execution_count": 5,
   "metadata": {
    "collapsed": false
   },
   "outputs": [
    {
     "data": {
      "text/plain": [
       "{'strawberries': 10}"
      ]
     },
     "execution_count": 5,
     "metadata": {},
     "output_type": "execute_result"
    }
   ],
   "source": [
    "new_inventory = {}\n",
    "add_fruit(new_inventory, \"strawberries\", 10)"
   ]
  },
  {
   "cell_type": "code",
   "execution_count": 6,
   "metadata": {
    "collapsed": false
   },
   "outputs": [
    {
     "data": {
      "text/plain": [
       "True"
      ]
     },
     "execution_count": 6,
     "metadata": {},
     "output_type": "execute_result"
    }
   ],
   "source": [
    "\"strawberries\" in new_inventory"
   ]
  },
  {
   "cell_type": "code",
   "execution_count": 7,
   "metadata": {
    "collapsed": false
   },
   "outputs": [
    {
     "data": {
      "text/plain": [
       "True"
      ]
     },
     "execution_count": 7,
     "metadata": {},
     "output_type": "execute_result"
    }
   ],
   "source": [
    "new_inventory[\"strawberries\"] == 10"
   ]
  },
  {
   "cell_type": "code",
   "execution_count": 8,
   "metadata": {
    "collapsed": false
   },
   "outputs": [
    {
     "data": {
      "text/plain": [
       "{'strawberries': 25}"
      ]
     },
     "execution_count": 8,
     "metadata": {},
     "output_type": "execute_result"
    }
   ],
   "source": [
    "add_fruit(new_inventory, \"strawberries\", 25)"
   ]
  },
  {
   "cell_type": "code",
   "execution_count": 9,
   "metadata": {
    "collapsed": false
   },
   "outputs": [
    {
     "data": {
      "text/plain": [
       "False"
      ]
     },
     "execution_count": 9,
     "metadata": {},
     "output_type": "execute_result"
    }
   ],
   "source": [
    "new_inventory[\"strawberries\"] == 35"
   ]
  },
  {
   "cell_type": "code",
   "execution_count": null,
   "metadata": {
    "collapsed": true
   },
   "outputs": [],
   "source": [
    "import urllib\n",
    "\n",
    "url = \"http://www.gutenberg.org/cache/epub/11/pg11.txt\"\n",
    "txt = urllib.request.urlopen(url).read()\n",
    "txt = txt.decode('utf-8')\n",
    "\n",
    "all_words = txt.split()\n",
    "word_cnt ={}\n",
    "\n",
    "for words in all_words:\n",
    "    word_cnt[words] = word_cnt.get(txt.count(words), 0) + 1\n",
    "\n",
    "word_cnt_list = list(word_cnt.items())\n",
    "word_cnt_list.sort()\n",
    "\n",
    "for (words, cnt) in word_cnt_list:\n",
    "    print(words,\" \",cnt)"
   ]
  },
  {
   "cell_type": "code",
   "execution_count": null,
   "metadata": {
    "collapsed": true
   },
   "outputs": [],
   "source": [
    "txt.count('Alice')"
   ]
  }
 ],
 "metadata": {
  "kernelspec": {
   "display_name": "Python 3",
   "language": "python",
   "name": "python3"
  },
  "language_info": {
   "codemirror_mode": {
    "name": "ipython",
    "version": 3
   },
   "file_extension": ".py",
   "mimetype": "text/x-python",
   "name": "python",
   "nbconvert_exporter": "python",
   "pygments_lexer": "ipython3",
   "version": "3.5.2"
  }
 },
 "nbformat": 4,
 "nbformat_minor": 0
}
